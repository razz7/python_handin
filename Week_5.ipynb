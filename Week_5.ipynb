{
 "cells": [
  {
   "cell_type": "markdown",
   "metadata": {},
   "source": [
    "Status: Jeg kom ikke så langt. "
   ]
  },
  {
   "cell_type": "markdown",
   "metadata": {},
   "source": [
    "## Ex1 Use data from Danmarks Statistik - Databanken\n",
    "1. Go to https://www.dst.dk/da/Statistik/brug-statistikken/muligheder-i-statistikbanken/api#testkonsol\n",
    "2. Open 'Konsol' and click 'Start Konsol'\n",
    "3. In the console at pt 1: choose 'Retrieve tables', pt 2: choose get request and json format and pt 3: execute:\n",
    "  1. check the result\n",
    "  2. in the code below this same get request is used to get information about all available data tables in 'databanken'. \n",
    "4. Change pt. 1 in the console to 'Retrieve data', pt 2: 'get request' and Table id: 'FOLK1A', format: csv, delimiter: semicolon and click: 'Variable and value codes' and choose some sub categories (Hint: hover over the codes to see their meaning). Finally execute and see what data you get.\n",
    "5. With data aggregation and data visualization answer the following questions:\n",
    "  1. What is the change in pct of divorced danes from 2008 to 2020?\n",
    "  2. Which of the 5 biggest cities has the highest percentage of 'Never Married' in 2020?\n",
    "  3. Show a bar chart of changes in marrital status in Copenhagen from 2008 till now\n",
    "  4. Show 2 plots in same figure: 'Married' and 'Never Married' for all ages in DK in 2020 (Hint: x axis is age from 0-125, y axis is how many people in the 2 categories). Add lengend to show names on graphs\n",
    "  \n",
    "## Ex2 Use another table (extra)\n",
    "Choose any of the other tables in 'databanken' to find interesting data.\n",
    "1. Collect the data\n",
    "2. Pose 5 or more interesing questions to the data\n",
    "3. Answer the questions by aggregating the data\n",
    "4. Illustrate the answers with visual plots"
   ]
  },
  {
   "cell_type": "code",
   "execution_count": 2,
   "metadata": {},
   "outputs": [],
   "source": [
    "import pandas as pd \n",
    "import matplotlib.pyplot as plt\n",
    "\n",
    "url = 'https://api.statbank.dk/v1/tables'\n",
    "dst = pd.read_json(url)\n",
    "dst.to_csv('dk-stat-all-tables.csv', encoding='utf-8', index=False)\n",
    "#dst[:20]"
   ]
  },
  {
   "cell_type": "code",
   "execution_count": 3,
   "metadata": {},
   "outputs": [
    {
     "data": {
      "text/plain": [
       "<matplotlib.axes._subplots.AxesSubplot at 0x7fe93c111610>"
      ]
     },
     "execution_count": 3,
     "metadata": {},
     "output_type": "execute_result"
    },
    {
     "data": {
      "image/png": "[encoded data removed]",
      "text/plain": [
       "<Figure size 432x288 with 1 Axes>"
      ]
     },
     "metadata": {
      "needs_background": "light"
     },
     "output_type": "display_data"
    }
   ],
   "source": [
    "file = 'FOLK1A.csv'\n",
    "data = pd.read_csv(file, sep =';')\n",
    "\n",
    "\n",
    "for element in range(1, len(data['INDHOLD'])):\n",
    "    data.loc[element,'INDHOLD'] = ((float(data['INDHOLD'][element]) / float(data['INDHOLD'][0])-1)*100)\n",
    "    \n",
    "data = data[:][1:]\n",
    "data.plot(x=\"TID\", y=\"INDHOLD\")"
   ]
  },
  {
   "cell_type": "code",
   "execution_count": 4,
   "metadata": {},
   "outputs": [
    {
     "name": "stderr",
     "output_type": "stream",
     "text": [
      "/opt/conda/lib/python3.7/site-packages/pandas/core/indexing.py:966: SettingWithCopyWarning: \n",
      "A value is trying to be set on a copy of a slice from a DataFrame.\n",
      "Try using .loc[row_indexer,col_indexer] = value instead\n",
      "\n",
      "See the caveats in the documentation: https://pandas.pydata.org/pandas-docs/stable/user_guide/indexing.html#returning-a-view-versus-a-copy\n",
      "  self.obj[item] = s\n"
     ]
    },
    {
     "data": {
      "text/plain": [
       "<matplotlib.axes._subplots.AxesSubplot at 0x7fe93b6b6a50>"
      ]
     },
     "execution_count": 4,
     "metadata": {},
     "output_type": "execute_result"
    },
    {
     "data": {
      "image/png": "[encoded data removed]",
      "text/plain": [
       "<Figure size 432x288 with 1 Axes>"
      ]
     },
     "metadata": {
      "needs_background": "light"
     },
     "output_type": "display_data"
    }
   ],
   "source": [
    "#B Which of the 5 biggest cities has the highest percentage of 'Never Married'?\n",
    "\n",
    "files = 'FOLK1A-1.csv'\n",
    "civil = pd.read_csv(files, sep = ';')\n",
    "civil\n",
    "\n",
    "alle_civil = civil[civil['CIVILSTAND'] == 'I alt']\n",
    "alle_civil\n",
    "\n",
    "ugift_civil = civil[civil['CIVILSTAND'] == 'Ugift']\n",
    "ugift_civil\n",
    "\n",
    "civil_list = alle_civil\n",
    "\n",
    "for element in range(len(civil_list['INDHOLD'])):\n",
    "    civil_list.loc[element,'INDHOLD'] = (float(ugift_civil['INDHOLD'][element+len(alle_civil)]) / (float(alle_civil['INDHOLD'][element]))*100)\n",
    "    \n",
    "civil_list = civil_list[-civil_list['OMRÅDE'].apply(lambda x: (x == 'Hele landet'))]\n",
    "civil_list = civil_list[-civil_list['OMRÅDE'].apply(lambda x: (x[0:6] == 'Region'))]\n",
    "civil_list = civil_list.sort_values(by='INDHOLD')   \n",
    "civil_list = civil_list[-6:][1:]\n",
    "civil_list.plot(x=\"OMRÅDE\", y=\"INDHOLD\")\n",
    "\n"
   ]
  },
  {
   "cell_type": "code",
   "execution_count": 6,
   "metadata": {},
   "outputs": [
    {
     "data": {
      "text/html": [
       "<div>\n",
       "<style scoped>\n",
       "    .dataframe tbody tr th:only-of-type {\n",
       "        vertical-align: middle;\n",
       "    }\n",
       "\n",
       "    .dataframe tbody tr th {\n",
       "        vertical-align: top;\n",
       "    }\n",
       "\n",
       "    .dataframe thead th {\n",
       "        text-align: right;\n",
       "    }\n",
       "</style>\n",
       "<table border=\"1\" class=\"dataframe\">\n",
       "  <thead>\n",
       "    <tr style=\"text-align: right;\">\n",
       "      <th></th>\n",
       "      <th>OMRÅDE</th>\n",
       "      <th>TID</th>\n",
       "      <th>CIVILSTAND</th>\n",
       "      <th>INDHOLD</th>\n",
       "    </tr>\n",
       "  </thead>\n",
       "  <tbody>\n",
       "    <tr>\n",
       "      <th>0</th>\n",
       "      <td>København</td>\n",
       "      <td>2008K1</td>\n",
       "      <td>I alt</td>\n",
       "      <td>509861</td>\n",
       "    </tr>\n",
       "    <tr>\n",
       "      <th>1</th>\n",
       "      <td>København</td>\n",
       "      <td>2008K1</td>\n",
       "      <td>Ugift</td>\n",
       "      <td>309661</td>\n",
       "    </tr>\n",
       "    <tr>\n",
       "      <th>2</th>\n",
       "      <td>København</td>\n",
       "      <td>2008K1</td>\n",
       "      <td>Gift/separeret</td>\n",
       "      <td>128556</td>\n",
       "    </tr>\n",
       "    <tr>\n",
       "      <th>3</th>\n",
       "      <td>København</td>\n",
       "      <td>2008K1</td>\n",
       "      <td>Enke/enkemand</td>\n",
       "      <td>21555</td>\n",
       "    </tr>\n",
       "    <tr>\n",
       "      <th>4</th>\n",
       "      <td>København</td>\n",
       "      <td>2008K1</td>\n",
       "      <td>Fraskilt</td>\n",
       "      <td>50089</td>\n",
       "    </tr>\n",
       "    <tr>\n",
       "      <th>...</th>\n",
       "      <td>...</td>\n",
       "      <td>...</td>\n",
       "      <td>...</td>\n",
       "      <td>...</td>\n",
       "    </tr>\n",
       "    <tr>\n",
       "      <th>240</th>\n",
       "      <td>København</td>\n",
       "      <td>2020K1</td>\n",
       "      <td>I alt</td>\n",
       "      <td>632340</td>\n",
       "    </tr>\n",
       "    <tr>\n",
       "      <th>241</th>\n",
       "      <td>København</td>\n",
       "      <td>2020K1</td>\n",
       "      <td>Ugift</td>\n",
       "      <td>412512</td>\n",
       "    </tr>\n",
       "    <tr>\n",
       "      <th>242</th>\n",
       "      <td>København</td>\n",
       "      <td>2020K1</td>\n",
       "      <td>Gift/separeret</td>\n",
       "      <td>150458</td>\n",
       "    </tr>\n",
       "    <tr>\n",
       "      <th>243</th>\n",
       "      <td>København</td>\n",
       "      <td>2020K1</td>\n",
       "      <td>Enke/enkemand</td>\n",
       "      <td>14630</td>\n",
       "    </tr>\n",
       "    <tr>\n",
       "      <th>244</th>\n",
       "      <td>København</td>\n",
       "      <td>2020K1</td>\n",
       "      <td>Fraskilt</td>\n",
       "      <td>54740</td>\n",
       "    </tr>\n",
       "  </tbody>\n",
       "</table>\n",
       "<p>245 rows × 4 columns</p>\n",
       "</div>"
      ],
      "text/plain": [
       "        OMRÅDE     TID      CIVILSTAND  INDHOLD\n",
       "0    København  2008K1           I alt   509861\n",
       "1    København  2008K1           Ugift   309661\n",
       "2    København  2008K1  Gift/separeret   128556\n",
       "3    København  2008K1   Enke/enkemand    21555\n",
       "4    København  2008K1        Fraskilt    50089\n",
       "..         ...     ...             ...      ...\n",
       "240  København  2020K1           I alt   632340\n",
       "241  København  2020K1           Ugift   412512\n",
       "242  København  2020K1  Gift/separeret   150458\n",
       "243  København  2020K1   Enke/enkemand    14630\n",
       "244  København  2020K1        Fraskilt    54740\n",
       "\n",
       "[245 rows x 4 columns]"
      ]
     },
     "execution_count": 6,
     "metadata": {},
     "output_type": "execute_result"
    },
    {
     "data": {
      "image/png": "[encoded data removed]",
      "text/plain": [
       "<Figure size 432x288 with 1 Axes>"
      ]
     },
     "metadata": {
      "needs_background": "light"
     },
     "output_type": "display_data"
    }
   ],
   "source": [
    "import pandas as pd\n",
    "#C. Show a bar chart of changes in marrital status in Copenhagen from 2008 till now\n",
    "\n",
    "file = 'FOLK1A-2.csv';\n",
    "people = pd.read_csv(file, sep = ';')\n",
    "people\n",
    "\n",
    "ugift_people = people[people['CIVILSTAND'] == 'Ugift']\n",
    "gift_people = people[people['CIVILSTAND'] == 'Gift/separeret']\n",
    "enke_people = people[people['CIVILSTAND'] == 'Enke/enkemand']\n",
    "fraskilt_people = people[people['CIVILSTAND'] == 'Fraskilt']\n",
    "\n",
    "\n",
    "\n",
    "p1 = plt.bar(ugift_people['TID'], ugift_people['INDHOLD'], width=0.5, align='center' , color='purple')\n",
    "p2 = plt.bar(gift_people['TID'], gift_people['INDHOLD'], width=0.5, align='center' , color='red')\n",
    "p3 = plt.bar(fraskilt_people['TID'], fraskilt_people['INDHOLD'], width=0.5, align='center' , color='green')\n",
    "p4 = plt.bar(enke_people['TID'], enke_people['INDHOLD'], width=0.5, align='center' , color='')\n",
    "plt.legend([p1,p2,p3,p4],['Ugift','Gift/separeret','Fraskilt','Enke/enkemand'],loc=1)\n",
    "\n",
    "people"
   ]
  }
 ],
 "metadata": {
  "kernelspec": {
   "display_name": "Python 3",
   "language": "python",
   "name": "python3"
  },
  "language_info": {
   "codemirror_mode": {
    "name": "ipython",
    "version": 3
   },
   "file_extension": ".py",
   "mimetype": "text/x-python",
   "name": "python",
   "nbconvert_exporter": "python",
   "pygments_lexer": "ipython3",
   "version": "3.7.6"
  }
 },
 "nbformat": 4,
 "nbformat_minor": 4
}
