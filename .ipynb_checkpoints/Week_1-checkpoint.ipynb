{
 "cells": [
  {
   "cell_type": "markdown",
   "metadata": {},
   "source": [
    "# Week 1 handin"
   ]
  },
  {
   "cell_type": "markdown",
   "metadata": {},
   "source": [
    "## 01 Assignment\n",
    "Here is the text for the assignment linked to"
   ]
  },
  {
   "cell_type": "markdown",
   "metadata": {},
   "source": [
    "## 02 Status\n",
    "Made all."
   ]
  },
  {
   "cell_type": "markdown",
   "metadata": {},
   "source": [
    "## 03 Solution part 1"
   ]
  },
  {
   "cell_type": "code",
   "execution_count": 2,
   "metadata": {},
   "outputs": [
    {
     "name": "stdout",
     "output_type": "stream",
     "text": [
      "['Herlev', 'Henning']\n"
     ]
    }
   ],
   "source": [
    "#A\n",
    "names = [\"Ditlev\", \"Rasmus\", \"Herlev\", \"Henning\"]\n",
    "result = [n for n in names if n.startswith('H')]\n",
    "print(result)"
   ]
  },
  {
   "cell_type": "code",
   "execution_count": 3,
   "metadata": {},
   "outputs": [
    {
     "name": "stdout",
     "output_type": "stream",
     "text": [
      "[0, 1, 8, 27, 64, 125, 216, 343, 512, 729, 1000, 1331, 1728, 2197, 2744, 3375, 4096, 4913, 5832, 6859, 8000, 9261, 10648, 12167, 13824, 15625, 17576, 19683, 21952, 24389, 27000, 29791, 32768, 35937, 39304, 42875, 46656, 50653, 54872, 59319, 64000, 68921, 74088, 79507, 85184, 91125, 97336, 103823, 110592, 117649, 125000, 132651, 140608, 148877, 157464, 166375, 175616, 185193, 195112, 205379, 216000, 226981, 238328, 250047, 262144, 274625, 287496, 300763, 314432, 328509, 343000, 357911, 373248, 389017, 405224, 421875, 438976, 456533, 474552, 493039, 512000, 531441, 551368, 571787, 592704, 614125, 636056, 658503, 681472, 704969, 729000, 753571, 778688, 804357, 830584, 857375, 884736, 912673, 941192, 970299]\n"
     ]
    }
   ],
   "source": [
    "#B\n",
    "numList = range(0,100)\n",
    "\n",
    "def power(numList):\n",
    "    return [ x**3 for x in numList ]\n",
    "\n",
    "print(power(numList))"
   ]
  },
  {
   "cell_type": "code",
   "execution_count": 10,
   "metadata": {},
   "outputs": [
    {
     "name": "stdout",
     "output_type": "stream",
     "text": [
      "[(6, 'Ditlev'), (6, 'Rasmus'), (6, 'Herlev'), (7, 'Henning'), (3, 'Ida')]\n"
     ]
    }
   ],
   "source": [
    "#C\n",
    "names = [\"Ditlev\", \"Rasmus\", \"Herlev\", \"Henning\", \"Ida\"]\n",
    "res = []\n",
    "for name in names:\n",
    "    res.append((len(name), name))\n",
    "print(res)"
   ]
  },
  {
   "cell_type": "markdown",
   "metadata": {},
   "source": []
  },
  {
   "cell_type": "code",
   "execution_count": 5,
   "metadata": {},
   "outputs": [
    {
     "name": "stdout",
     "output_type": "stream",
     "text": [
      "1\n",
      "2\n",
      "3\n",
      "1\n",
      "2\n",
      "3\n"
     ]
    }
   ],
   "source": [
    "#D\n",
    "string = \"qwelqjke123123awæsljqr\"\n",
    "\n",
    "\n",
    "for c in string:\n",
    "    if c.isdigit():\n",
    "        print(c)"
   ]
  },
  {
   "cell_type": "code",
   "execution_count": 11,
   "metadata": {},
   "outputs": [
    {
     "name": "stdout",
     "output_type": "stream",
     "text": [
      "{(1, 3), (2, 1), (5, 1), (2, 5), (1, 2), (3, 3), (5, 5), (4, 4), (1, 5), (2, 2), (4, 1), (1, 1), (3, 2), (5, 4), (4, 5), (5, 2), (1, 4), (2, 3), (4, 2), (3, 5), (5, 3), (3, 1), (4, 3), (3, 4), (2, 4)}\n"
     ]
    }
   ],
   "source": [
    "#E \n",
    "dices = set((x,y) for x in range(1,6) for y in range(1,6))\n",
    "print(dices);"
   ]
  },
  {
   "cell_type": "markdown",
   "metadata": {},
   "source": [
    "## Part 2"
   ]
  },
  {
   "cell_type": "code",
   "execution_count": 7,
   "metadata": {},
   "outputs": [
    {
     "name": "stdout",
     "output_type": "stream",
     "text": [
      "[('Peter', 5), ('Ingolf', 6), ('Mads', 4)]\n",
      "[(19, 4.358898943540674), (1112, 33.34666400106613), (123, 11.090536506409418)]\n"
     ]
    }
   ],
   "source": [
    "#A\n",
    "import math\n",
    "\n",
    "name_list = [\"Peter\", \"Ingolf\", \"Mads\"]\n",
    "res = [];\n",
    "for name in name_list:\n",
    "    res.append((name, len(name)));\n",
    "print(res);\n",
    "\n",
    "numbers = [(19, math.sqrt(19)), (1112, math.sqrt(1112)), (123, math.sqrt(123))]\n",
    "print(numbers);"
   ]
  },
  {
   "cell_type": "code",
   "execution_count": 23,
   "metadata": {},
   "outputs": [
    {
     "name": "stdout",
     "output_type": "stream",
     "text": [
      "{8: 2.8284271247461903, 88: 9.38083151964686, 36: 6.0, 49: 7.0}\n"
     ]
    }
   ],
   "source": [
    "#B\n",
    "numbers = [8,88,36,49]\n",
    "result = {number:number**0.5 for number in numbers}\n",
    "print(result)"
   ]
  },
  {
   "cell_type": "code",
   "execution_count": 8,
   "metadata": {},
   "outputs": [
    {
     "name": "stdout",
     "output_type": "stream",
     "text": [
      "[((1, 3), 25.0), ((2, 1), 2.7777777777777777), ((5, 1), 2.7777777777777777), ((2, 5), 69.44444444444446), ((1, 2), 11.11111111111111), ((3, 3), 25.0), ((5, 5), 69.44444444444446), ((4, 4), 44.44444444444444), ((1, 5), 69.44444444444446), ((2, 2), 11.11111111111111), ((4, 1), 2.7777777777777777), ((1, 1), 2.7777777777777777), ((3, 2), 11.11111111111111), ((5, 4), 44.44444444444444), ((4, 5), 69.44444444444446), ((5, 2), 11.11111111111111), ((1, 4), 44.44444444444444), ((2, 3), 25.0), ((4, 2), 11.11111111111111), ((3, 5), 69.44444444444446), ((5, 3), 25.0), ((3, 1), 2.7777777777777777), ((4, 3), 25.0), ((3, 4), 44.44444444444444), ((2, 4), 44.44444444444444)]\n"
     ]
    }
   ],
   "source": [
    "#Dice\n",
    "dices = set((x,y) for x in range(1,6) for y in range(1,6))\n",
    "\n",
    "res = [];\n",
    "for die in dices:\n",
    "    res.append((die, (float(die[1])/6) * (float(die[1])/6)*100));\n",
    "print(res);"
   ]
  }
 ],
 "metadata": {
  "kernelspec": {
   "display_name": "Python 3",
   "language": "python",
   "name": "python3"
  },
  "language_info": {
   "codemirror_mode": {
    "name": "ipython",
    "version": 3
   },
   "file_extension": ".py",
   "mimetype": "text/x-python",
   "name": "python",
   "nbconvert_exporter": "python",
   "pygments_lexer": "ipython3",
   "version": "3.7.6"
  }
 },
 "nbformat": 4,
 "nbformat_minor": 4
}
