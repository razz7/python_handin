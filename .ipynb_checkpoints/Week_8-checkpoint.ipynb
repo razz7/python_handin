{
 "cells": [
  {
   "cell_type": "markdown",
   "metadata": {},
   "source": [
    "## Week_8 made an api \n"
   ]
  },
  {
   "cell_type": "code",
   "execution_count": 1,
   "metadata": {},
   "outputs": [
    {
     "ename": "ModuleNotFoundError",
     "evalue": "No module named 'flask_sqlalchemy'",
     "output_type": "error",
     "traceback": [
      "\u001b[0;31m---------------------------------------------------------------------------\u001b[0m",
      "\u001b[0;31mModuleNotFoundError\u001b[0m                       Traceback (most recent call last)",
      "\u001b[0;32m<ipython-input-1-3577f0797ea6>\u001b[0m in \u001b[0;36m<module>\u001b[0;34m\u001b[0m\n\u001b[1;32m      1\u001b[0m \u001b[0;32mfrom\u001b[0m \u001b[0mflask\u001b[0m \u001b[0;32mimport\u001b[0m \u001b[0mFlask\u001b[0m\u001b[0;34m,\u001b[0m \u001b[0mjsonify\u001b[0m\u001b[0;34m\u001b[0m\u001b[0;34m\u001b[0m\u001b[0m\n\u001b[0;32m----> 2\u001b[0;31m \u001b[0;32mfrom\u001b[0m \u001b[0mflask_sqlalchemy\u001b[0m \u001b[0;32mimport\u001b[0m \u001b[0mSQLAlchemy\u001b[0m\u001b[0;34m\u001b[0m\u001b[0;34m\u001b[0m\u001b[0m\n\u001b[0m\u001b[1;32m      3\u001b[0m \u001b[0;32mimport\u001b[0m \u001b[0mmysql\u001b[0m\u001b[0;34m.\u001b[0m\u001b[0mconnector\u001b[0m \u001b[0;32mas\u001b[0m \u001b[0mmysql\u001b[0m\u001b[0;34m\u001b[0m\u001b[0;34m\u001b[0m\u001b[0m\n\u001b[1;32m      4\u001b[0m \u001b[0;32mfrom\u001b[0m \u001b[0mflask_json\u001b[0m \u001b[0;32mimport\u001b[0m \u001b[0mjson_response\u001b[0m\u001b[0;34m\u001b[0m\u001b[0;34m\u001b[0m\u001b[0m\n\u001b[1;32m      5\u001b[0m \u001b[0;34m\u001b[0m\u001b[0m\n",
      "\u001b[0;31mModuleNotFoundError\u001b[0m: No module named 'flask_sqlalchemy'"
     ]
    }
   ],
   "source": [
    "\n",
    "\n",
    "\n",
    "from flask import Flask, jsonify\n",
    "from flask_sqlalchemy import SQLAlchemy\n",
    "import mysql.connector as mysql\n",
    "from flask_json import json_response\n",
    "\n",
    "#from flask_mysqldb import MySQL\n",
    "\n",
    "\n",
    "app = Flask(__name__)\n",
    "\n",
    "\n",
    "#app.config['SQLALCHEMY_DATABASE_URI'] = 'mysql+mysqlconnector://root:root@db/netflix'\n",
    "\n",
    "\n",
    "db = mysql.connect(\n",
    "    host = \"db\", # would be localhost if not running in docker\n",
    "    user = \"root\",\n",
    "    passwd = \"root\",\n",
    "    db = \"netflix\"\n",
    ")\n",
    "\n",
    "\n",
    "@app.route('/api/get-data', methods=['GET'])\n",
    "def response():\n",
    "    res = []\n",
    "    cur = db.cursor()\n",
    "    query = 'select * from netflix where release_year = 2000'\n",
    "    cur.execute(query)\n",
    "    result = cur.fetchall()\n",
    "    for m in result:\n",
    "        res.append(m)\n",
    "    return jsonify(res)\n",
    "\n",
    "\n",
    "@app.route('/api/all', methods=['GET'])\n",
    "def all():\n",
    "    resall = []\n",
    "    cur = db.cursor()\n",
    "    q = 'select * from netflix'\n",
    "    cur.execute(q)\n",
    "    qres = cur.fetchall()\n",
    "    for m in qres:\n",
    "        resall.append(m)\n",
    "    return jsonify(resall)\n",
    "\n"
   ]
  }
 ],
 "metadata": {
  "kernelspec": {
   "display_name": "Python 3",
   "language": "python",
   "name": "python3"
  },
  "language_info": {
   "codemirror_mode": {
    "name": "ipython",
    "version": 3
   },
   "file_extension": ".py",
   "mimetype": "text/x-python",
   "name": "python",
   "nbconvert_exporter": "python",
   "pygments_lexer": "ipython3",
   "version": "3.7.6"
  }
 },
 "nbformat": 4,
 "nbformat_minor": 4
}
