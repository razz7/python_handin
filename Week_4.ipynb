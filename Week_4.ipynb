{
 "cells": [
  {
   "cell_type": "markdown",
   "metadata": {},
   "source": [
    "# Week 4 Exercise with Numpy\n",
    "\n",
    "Obligatorisk done \n",
    "\n",
    "Use only numpy (not pandas) in these exercises\n",
    "#### Exercise 1\n",
    "1. Open the file './data/befkbhalderstatkode.csv'\n",
    "2. Turn the csv file into a numpy ndarray with `np.genfromtxt(filename, delimiter=',', dtype=np.uint, skip_header=1)`\n",
    "3. Using this data:\n",
    "```python\n",
    "neighb = {1: 'Indre By', 2: 'Østerbro', 3: 'Nørrebro', 4: 'Vesterbro/Kgs. Enghave', \n",
    "          5: 'Valby', 6: 'Vanløse', 7: 'Brønshøj-Husum', 8: 'Bispebjerg', 9: 'Amager Øst', \n",
    "          10: 'Amager Vest', 99: 'Udenfor'}\n",
    "```\n",
    "Find out how many people lived in each of the 11 areas in 2015\n",
    "4. Make a bar plot to show the size of each city area from the smallest to the largest\n",
    "5. Create a boolean mask to find out how many people above 65 years lived in Copenhagen in 2015\n",
    "6. How many of those were from the other nordic countries (not dk)\n",
    "7. Make a line plot showing the changes of number of people in vesterbro and østerbro from 1992 to 2015"
   ]
  },
  {
   "cell_type": "code",
   "execution_count": 4,
   "metadata": {},
   "outputs": [
    {
     "name": "stdout",
     "output_type": "stream",
     "text": [
      "{'Indre By': 51937.0, 'Østerbro': 75113.0, 'Nørrebro': 78802.0, 'Vesterbro/Kgs. Enghave': 61623.0, 'Valby': 51727.0, 'Vanløse': 39537.0, 'Brønshøj-Husum': 43908.0, 'Bispebjerg': 53604.0, 'Amager Øst': 55205.0, 'Amager Vest': 64967.0, 'Udenfor': 3872.0}\n"
     ]
    },
    {
     "data": {
      "image/png": "[encoded data removed]",
      "text/plain": [
       "<Figure size 432x288 with 1 Axes>"
      ]
     },
     "metadata": {
      "needs_background": "light"
     },
     "output_type": "display_data"
    },
    {
     "name": "stdout",
     "output_type": "stream",
     "text": [
      "over 65 2837\n",
      "outside dk 4093.0\n"
     ]
    }
   ],
   "source": [
    "import numpy as np\n",
    "import matplotlib.pyplot as plt\n",
    "\n",
    "data = np.genfromtxt('week4data/befkbhalderstatkode-Copy.csv', delimiter=',', skip_header=1)\n",
    "\n",
    "neighb = {1: 'Indre By', 2: 'Østerbro', 3: 'Nørrebro', 4: 'Vesterbro/Kgs. Enghave', \n",
    "       5: 'Valby', 6: 'Vanløse', 7: 'Brønshøj-Husum', 8: 'Bispebjerg', 9: 'Amager Øst', \n",
    "       10: 'Amager Vest', 99: 'Udenfor'}\n",
    "\n",
    "peeps = {neighb[p]:np.sum(data[(data[:,0] == 2015) & (data[:,1] == p)][:,4]) for p in neighb.keys()}\n",
    "print(peeps)\n",
    "\n",
    "sortedPeeps = {c: val for c, val in sorted(peeps.items(), key=lambda item: item[1])}\n",
    "\n",
    "plt.bar(sortedPeeps.keys(), sortedPeeps.values())\n",
    "plt.show()\n",
    "\n",
    "\n",
    "\n",
    "mask_over_65 = (data[:,2] >= 65) & (data[:,0] == 2015)\n",
    "print(\"over 65\", mask_over_65.sum())\n",
    "\n",
    "mask_not_denmark = (data[:,3] != 5130) & (data[:,2] == 65) & (data[:,0] == 2015)\n",
    "over_65_not_denmark = data[mask_not_denmark]\n",
    "print(\"outside dk {}\".format(over_65_not_denmark[:,4].sum()))"
   ]
  }
 ],
 "metadata": {
  "kernelspec": {
   "display_name": "Python 3",
   "language": "python",
   "name": "python3"
  },
  "language_info": {
   "codemirror_mode": {
    "name": "ipython",
    "version": 3
   },
   "file_extension": ".py",
   "mimetype": "text/x-python",
   "name": "python",
   "nbconvert_exporter": "python",
   "pygments_lexer": "ipython3",
   "version": "3.7.6"
  }
 },
 "nbformat": 4,
 "nbformat_minor": 4
}
