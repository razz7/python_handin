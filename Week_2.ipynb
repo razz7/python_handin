{
 "cells": [
  {
   "cell_type": "markdown",
   "metadata": {},
   "source": [
    "All done except CLI. \n",
    "\n",
    "## Exercise 1\n",
    "1. Create a python file with 3 functions:\n",
    "  1. `def print_file_content(file)` that can print content of a csv file to the console\n",
    "  2. `def write_list_to_file(output_file, lst)` that can take a list of tuple and write each element to a new line in file\n",
    "    1. rewrite the function so that it gets an arbitrary number of strings instead of a list\n",
    "  3. `def read_csv(input_file)` that take a csv file and read each row into a list\n",
    "2. Add a functionality so that the file can be called from cli with 2 arguments\n",
    "  1. path to csv file\n",
    "  2. an argument `--file file_name` that if given will write the content to file_name or otherwise will print it to the console.\n",
    "3. Add a --help cli argument to describe how the module is used "
   ]
  },
  {
   "cell_type": "code",
   "execution_count": 1,
   "metadata": {},
   "outputs": [
    {
     "name": "stdout",
     "output_type": "stream",
     "text": [
      "000; Hele-landet\n",
      "084; Region-Hovedstaden\n",
      "101; København\n",
      "147; Frederiksberg\n",
      "155; Dragør\n",
      "185; Tårnby\n",
      "165; Albertslund\n",
      "151; Ballerup\n",
      "153; Brøndby\n",
      "157; Gentofte\n",
      "159; Gladsaxe\n",
      "161; Glostrup\n",
      "163; Herlev\n",
      "167; Hvidovre\n",
      "169; Høje-Taastrup\n",
      "183; Ishøj\n",
      "173; Lyngby-Taarbæk\n",
      "175; Rødovre\n",
      "187; Vallensbæk\n",
      "201; Allerød\n",
      "240; Egedal\n",
      "210; Fredensborg\n",
      "250; Frederikssund\n",
      "190; Furesø\n",
      "270; Gribskov\n",
      "260; Halsnæs\n",
      "217; Helsingør\n",
      "219; Hillerød\n",
      "223; Hørsholm\n",
      "230; Rudersdal\n",
      "400; Bornholm\n",
      "411; Christiansø\n",
      "085; Region-Sjælland\n",
      "253; Greve\n",
      "259; Køge\n",
      "350; Lejre\n",
      "265; Roskilde\n",
      "269; Solrød\n",
      "320; Faxe\n",
      "376; Guldborgsund\n",
      "316; Holbæk\n",
      "326; Kalundborg\n",
      "360; Lolland\n",
      "370; Næstved\n",
      "306; Odsherred\n",
      "329; Ringsted\n",
      "330; Slagelse\n",
      "340; Sorø\n",
      "336; Stevns\n",
      "390; Vordingborg\n",
      "083; Region-Syddanmark\n",
      "420; Assens\n",
      "430; Faaborg-Midtfyn\n",
      "440; Kerteminde\n",
      "482; Langeland\n",
      "410; Middelfart\n",
      "480; Nordfyns\n",
      "450; Nyborg\n",
      "461; Odense\n",
      "479; Svendborg\n",
      "492; Ærø\n",
      "530; Billund\n",
      "561; Esbjerg\n",
      "563; Fanø\n",
      "607; Fredericia\n",
      "510; Haderslev\n",
      "621; Kolding\n",
      "540; Sønderborg\n",
      "550; Tønder\n",
      "573; Varde\n",
      "575; Vejen\n",
      "630; Vejle\n",
      "580; Aabenraa\n",
      "082; Region-Midtjylland\n",
      "710; Favrskov\n",
      "766; Hedensted\n",
      "615; Horsens\n",
      "707; Norddjurs\n",
      "727; Odder\n",
      "730; Randers\n",
      "741; Samsø\n",
      "740; Silkeborg\n",
      "746; Skanderborg\n",
      "706; Syddjurs\n",
      "751; Aarhus\n",
      "657; Herning\n",
      "661; Holstebro\n",
      "756; Ikast-Brande\n",
      "665; Lemvig\n",
      "760; Ringkøbing-Skjern\n",
      "779; Skive\n",
      "671; Struer\n",
      "791; Viborg\n",
      "081; Region-Nordjylland\n",
      "810; Brønderslev\n",
      "813; Frederikshavn\n",
      "860; Hjørring\n",
      "849; Jammerbugt\n",
      "825; Læsø\n",
      "846; Mariagerfjord\n",
      "773; Morsø\n",
      "840; Rebild\n",
      "787; Thisted\n",
      "820; Vesthimmerlands\n",
      "851; Aalborg\n",
      "\n"
     ]
    }
   ],
   "source": [
    "#1.A \n",
    "testfile1 = 'Week2files/1acsvfiles.csv'\n",
    "\n",
    "\n",
    "def print_file_content(file):\n",
    "    with open(file) as file_object:\n",
    "        contents = file_object.read()\n",
    "    print(contents)\n",
    "    \n",
    "print_file_content(testfile1)"
   ]
  },
  {
   "cell_type": "code",
   "execution_count": 2,
   "metadata": {},
   "outputs": [
    {
     "name": "stdout",
     "output_type": "stream",
     "text": [
      "write this in the file\n",
      "No write this!\n",
      "i dont care\n",
      "\n"
     ]
    }
   ],
   "source": [
    "#1.B \n",
    "\n",
    "testfile2 = 'Week2files/writetome.csv'\n",
    "touples = [(\"write this in the file\"), (\"No write this!\"), (\"i dont care\")]\n",
    "\n",
    "def write_list_to_file(output_file, touples):\n",
    "    with open(output_file, 'w') as file_object:\n",
    "        for x in touples:\n",
    "            file_object.write(x + '\\n')\n",
    "            \n",
    "write_list_to_file(testfile2, touples)\n",
    "\n",
    "print_file_content(testfile2)"
   ]
  },
  {
   "cell_type": "code",
   "execution_count": 3,
   "metadata": {},
   "outputs": [
    {
     "name": "stdout",
     "output_type": "stream",
     "text": [
      "A\n",
      "v\n",
      " \n",
      "f\n",
      "o\n",
      "r\n",
      " \n",
      "K\n",
      "a\n",
      "t\n",
      "t\n",
      "e\n",
      "n\n",
      "!\n",
      "\n"
     ]
    }
   ],
   "source": [
    "#1.B.A\n",
    "\n",
    "string = \"Av for Katten!\"\n",
    "testfile3 = 'Week2files/filewriteTo1.csv'\n",
    "def write_list_to_file2(output_file, string):\n",
    "     with open(output_file, 'w') as file_object:\n",
    "            for x in string:\n",
    "                file_object.write(x + '\\n')\n",
    "\n",
    "write_list_to_file2(testfile3, string)\n",
    "print_file_content(testfile3)\n"
   ]
  },
  {
   "cell_type": "code",
   "execution_count": 4,
   "metadata": {},
   "outputs": [
    {
     "name": "stdout",
     "output_type": "stream",
     "text": [
      "test1\n"
     ]
    }
   ],
   "source": [
    "#C\n",
    "import csv\n",
    "myList = []\n",
    "testfile4 = 'Week2files/filetestforc.csv'\n",
    "def read_csv(input_file):\n",
    "    with open(input_file) as file_object:\n",
    "        reader = csv.reader(file_object)\n",
    "        for row in list(reader):\n",
    "            myList.append(row[0])\n",
    "    return myList\n",
    "        \n",
    "\n",
    "read_csv(testfile4)\n",
    "print(myList[0])"
   ]
  },
  {
   "cell_type": "markdown",
   "metadata": {},
   "source": [
    "## Exercise 2  \n"
   ]
  },
  {
   "cell_type": "markdown",
   "metadata": {},
   "source": [
    "i created my modul and made the functions \n",
    "\n",
    "Create a module called utils.py with the following 5 functions:\n",
    "\n",
    "def get_file_names(folderpath,out=output.txt):\n",
    "    \"\"\" takes a path to a folder and writes all filenames in the folder to a specified output file\"\"\"\n",
    "\n",
    "def get_all_file_names(folderpath,out=output.txt):\n",
    "    \"\"\"takes a path to a folder and write all filenames recursively (files of all sub folders to)\"\"\"\n",
    "\n",
    "def print_line_one(file_names):\n",
    "    \"\"\"takes a list of filenames and print the first line of each\"\"\"\n",
    "\n",
    "def print_emails(file_names):\n",
    "    \"\"\"takes a list of filenames and print each line that contains an email (just look for @)\"\"\"\n",
    "\n",
    "def write_headlines(md_files, out=output.txt):\n",
    "    \"\"\"takes a list of md files and writes all headlines (lines starting with #) to a file\"\"\"\n",
    "\n",
    "\n"
   ]
  },
  {
   "cell_type": "code",
   "execution_count": 5,
   "metadata": {},
   "outputs": [
    {
     "name": "stdout",
     "output_type": "stream",
     "text": [
      "<module 'utils' from '/home/jovyan/python_handin/utils.py'>\n"
     ]
    }
   ],
   "source": [
    "import utils\n",
    "\n",
    "print(utils)"
   ]
  },
  {
   "cell_type": "markdown",
   "metadata": {},
   "source": [
    "Find the result of filepathtofolder and filepathWritenames in 'Week2files'."
   ]
  },
  {
   "cell_type": "code",
   "execution_count": 6,
   "metadata": {},
   "outputs": [],
   "source": [
    "utils.filepathtofolder('./', 'Week2files/folderstuff1.csv')\n",
    "utils.filepathWritenames('./', 'Week2files/folderstuff2.csv')"
   ]
  },
  {
   "cell_type": "code",
   "execution_count": 7,
   "metadata": {},
   "outputs": [
    {
     "name": "stdout",
     "output_type": "stream",
     "text": [
      "hello world \n",
      "\n"
     ]
    }
   ],
   "source": [
    "hello = ['Week2files/helloworld.txt']\n",
    "utils.print_first_file_line(hello)"
   ]
  },
  {
   "cell_type": "code",
   "execution_count": 8,
   "metadata": {},
   "outputs": [
    {
     "name": "stdout",
     "output_type": "stream",
     "text": [
      "a@a.dk\n",
      "\n",
      "b@b.dk\n",
      "\n",
      "c@c.dk\n",
      "\n",
      "@@@@@\n"
     ]
    }
   ],
   "source": [
    "emails = ['Week2files/email.txt']\n",
    "utils.print_emails(emails)"
   ]
  },
  {
   "cell_type": "code",
   "execution_count": 9,
   "metadata": {},
   "outputs": [
    {
     "name": "stdout",
     "output_type": "stream",
     "text": [
      "#test\n",
      "\n",
      "##test \n",
      "\n",
      "###test\n"
     ]
    }
   ],
   "source": [
    "md = ['Week2files/md.txt']\n",
    "utils.print_headers_md(md)"
   ]
  }
 ],
 "metadata": {
  "kernelspec": {
   "display_name": "Python 3",
   "language": "python",
   "name": "python3"
  },
  "language_info": {
   "codemirror_mode": {
    "name": "ipython",
    "version": 3
   },
   "file_extension": ".py",
   "mimetype": "text/x-python",
   "name": "python",
   "nbconvert_exporter": "python",
   "pygments_lexer": "ipython3",
   "version": "3.7.6"
  }
 },
 "nbformat": 4,
 "nbformat_minor": 4
}
