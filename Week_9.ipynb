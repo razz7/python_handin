{
 "cells": [
  {
   "cell_type": "markdown",
   "metadata": {},
   "source": [
    "# Week 9 handin"
   ]
  },
  {
   "cell_type": "markdown",
   "metadata": {},
   "source": [
    "\n",
    "### Import the data into a Pandas dataframe. \n"
   ]
  },
  {
   "cell_type": "code",
   "execution_count": 45,
   "metadata": {},
   "outputs": [],
   "source": [
    "%matplotlib inline\n",
    "%matplotlib notebook\n",
    "import pandas as pd\n",
    "import numpy as np\n",
    "import scipy.stats as stats\n",
    "import matplotlib.pyplot as plt\n",
    "from sklearn import preprocessing\n",
    "from sklearn.linear_model import LinearRegression\n",
    "\n",
    "url = 'https://think.cs.vt.edu/corgis/datasets/csv/cars/cars.csv'\n",
    "\n",
    "pd.set_option('display.max_rows', None)\n",
    "\n",
    "data = pd.read_csv(url)\n",
    "\n",
    "dfold = data[['Engine Information.Engine Statistics.Horsepower', 'Fuel Information.Highway mpg', 'Identification.Make',\n",
    "              'Fuel Information.Fuel Type']]\n",
    "dfold.columns = ['bhp','mpg','make','fuel']\n",
    "\n",
    "df = dfold.loc[(dfold['make'] == 'BMW') & (dfold['fuel'] == 'Gasoline')].reset_index(drop=True)\n",
    "\n",
    "dfnew = df[['bhp', 'mpg']]\n",
    "#print(dfnew)"
   ]
  },
  {
   "cell_type": "code",
   "execution_count": 20,
   "metadata": {},
   "outputs": [
    {
     "data": {
      "text/plain": [
       "<matplotlib.axes._subplots.AxesSubplot at 0x7f34aa0e0350>"
      ]
     },
     "execution_count": 20,
     "metadata": {},
     "output_type": "execute_result"
    },
    {
     "data": {
      "image/png": "[encoded data removed]",
      "text/plain": [
       "<Figure size 432x288 with 1 Axes>"
      ]
     },
     "metadata": {
      "needs_background": "light"
     },
     "output_type": "display_data"
    }
   ],
   "source": [
    "\n",
    "dfnew.plot.scatter(x = 0, y = 1)"
   ]
  },
  {
   "cell_type": "code",
   "execution_count": 41,
   "metadata": {},
   "outputs": [
    {
     "name": "stdout",
     "output_type": "stream",
     "text": [
      "          bhp       mpg\n",
      "bhp  1.000000 -0.979335\n",
      "mpg -0.979335  1.000000\n"
     ]
    },
    {
     "data": {
      "image/png": "[encoded data removed]",
      "text/plain": [
       "<Figure size 432x288 with 1 Axes>"
      ]
     },
     "metadata": {
      "needs_background": "light"
     },
     "output_type": "display_data"
    }
   ],
   "source": [
    "c = dfnew.columns\n",
    "d = preprocessing.normalize(dfnew)\n",
    "\n",
    "normalized_df = pd.DataFrame(d, columns=c)\n",
    "print(normalized_df.corr(method='pearson', min_periods=1))\n",
    "\n",
    "normalized_df.plot.scatter(x = 1, y = 0)\n",
    "plt.show()"
   ]
  },
  {
   "cell_type": "code",
   "execution_count": 32,
   "metadata": {},
   "outputs": [
    {
     "data": {
      "text/plain": [
       "LinearRegression(copy_X=True, fit_intercept=True, n_jobs=None, normalize=False)"
      ]
     },
     "execution_count": 32,
     "metadata": {},
     "output_type": "execute_result"
    }
   ],
   "source": [
    "xs = dfnew['bhp']\n",
    "ys = dfnew['mpg']\n",
    "\n",
    "xs_reshape = np.array(xs).reshape(-1, 1)\n",
    "#print(xs.shape)\n",
    "#print(xs_reshape.shape)\n",
    "#print(xs_reshape)\n",
    "\n",
    "model = sklearn.linear_model.LinearRegression()\n",
    "model.fit(xs_reshape, ys)"
   ]
  },
  {
   "cell_type": "code",
   "execution_count": 5,
   "metadata": {},
   "outputs": [
    {
     "ename": "NameError",
     "evalue": "name 'model' is not defined",
     "output_type": "error",
     "traceback": [
      "\u001b[0;31m---------------------------------------------------------------------------\u001b[0m",
      "\u001b[0;31mNameError\u001b[0m                                 Traceback (most recent call last)",
      "\u001b[0;32m<ipython-input-5-d86d7ea8a4f6>\u001b[0m in \u001b[0;36m<module>\u001b[0;34m\u001b[0m\n\u001b[0;32m----> 1\u001b[0;31m \u001b[0mprint\u001b[0m\u001b[0;34m(\u001b[0m\u001b[0mmodel\u001b[0m\u001b[0;34m.\u001b[0m\u001b[0mcoef_\u001b[0m\u001b[0;34m)\u001b[0m\u001b[0;34m\u001b[0m\u001b[0;34m\u001b[0m\u001b[0m\n\u001b[0m\u001b[1;32m      2\u001b[0m \u001b[0mprint\u001b[0m\u001b[0;34m(\u001b[0m\u001b[0mmodel\u001b[0m\u001b[0;34m.\u001b[0m\u001b[0mintercept_\u001b[0m\u001b[0;34m)\u001b[0m\u001b[0;34m\u001b[0m\u001b[0;34m\u001b[0m\u001b[0m\n",
      "\u001b[0;31mNameError\u001b[0m: name 'model' is not defined"
     ]
    }
   ],
   "source": [
    "#print(model.coef_)\n"
   ]
  },
  {
   "cell_type": "markdown",
   "metadata": {},
   "source": [
    "### Perform linear regression where x = horsepower and y = mpg"
   ]
  },
  {
   "cell_type": "code",
   "execution_count": 8,
   "metadata": {},
   "outputs": [
    {
     "name": "stdout",
     "output_type": "stream",
     "text": [
      "Index(['bhp', 'mpg'], dtype='object')\n",
      "<class 'pandas.core.frame.DataFrame'>\n",
      "Int64Index: 132 entries, 0 to 131\n",
      "Data columns (total 2 columns):\n",
      " #   Column  Non-Null Count  Dtype\n",
      "---  ------  --------------  -----\n",
      " 0   bhp     132 non-null    int64\n",
      " 1   mpg     132 non-null    int64\n",
      "dtypes: int64(2)\n",
      "memory usage: 3.1 KB\n",
      "None\n",
      "--------------\n",
      "        bhp       mpg\n",
      "0  1.000000  0.000000\n",
      "1  1.000000  0.000000\n",
      "2  1.000000  0.000000\n",
      "3  1.000000  0.000000\n",
      "4  0.190476  0.473684\n",
      "          bhp       mpg\n",
      "127  0.507937  0.263158\n",
      "128  0.507937  0.315789\n",
      "129  0.507937  0.157895\n",
      "130  0.238095  0.421053\n",
      "131  0.238095  0.421053\n",
      "          bhp       mpg\n",
      "0    1.000000  0.000000\n",
      "1    1.000000  0.000000\n",
      "2    1.000000  0.000000\n",
      "3    1.000000  0.000000\n",
      "4    0.190476  0.473684\n",
      "5    0.190476  0.473684\n",
      "6    0.190476  0.578947\n",
      "7    0.190476  0.473684\n",
      "8    0.190476  0.473684\n",
      "9    0.190476  0.578947\n",
      "10   0.253968  0.473684\n",
      "11   0.190476  0.578947\n",
      "12   0.190476  0.421053\n",
      "13   0.190476  0.473684\n",
      "14   0.190476  0.473684\n",
      "15   0.190476  0.421053\n",
      "16   0.190476  0.526316\n",
      "17   0.190476  0.578947\n",
      "18   0.253968  0.473684\n",
      "19   0.190476  0.473684\n",
      "20   0.190476  0.578947\n",
      "21   0.190476  0.473684\n",
      "22   0.190476  0.421053\n",
      "23   0.079365  1.000000\n",
      "24   0.190476  0.421053\n",
      "25   0.190476  0.473684\n",
      "26   0.079365  1.000000\n",
      "27   0.190476  0.526316\n",
      "28   0.190476  0.578947\n",
      "29   0.190476  0.473684\n",
      "30   0.190476  0.578947\n",
      "31   0.190476  0.421053\n",
      "32   0.380952  0.315789\n",
      "33   0.190476  0.421053\n",
      "34   0.380952  0.263158\n",
      "35   0.190476  0.473684\n",
      "36   0.190476  0.473684\n",
      "37   0.380952  0.263158\n",
      "38   0.507937  0.263158\n",
      "39   0.190476  0.684211\n",
      "40   0.190476  0.578947\n",
      "41   0.507937  0.421053\n",
      "42   0.190476  0.368421\n",
      "43   0.190476  0.315789\n",
      "44   0.190476  0.578947\n",
      "45   0.507937  0.263158\n",
      "46   0.507937  0.263158\n",
      "47   0.507937  0.263158\n",
      "48   0.507937  0.263158\n",
      "49   0.190476  0.526316\n",
      "50   0.190476  0.684211\n",
      "51   0.380952  0.210526\n",
      "52   0.380952  0.263158\n",
      "53   0.507937  0.263158\n",
      "54   0.507937  0.210526\n",
      "55   0.507937  0.157895\n",
      "56   0.507937  0.157895\n",
      "57   0.936508  0.105263\n",
      "58   0.507937  0.210526\n",
      "59   0.507937  0.263158\n",
      "60   0.507937  0.157895\n",
      "61   0.936508  0.105263\n",
      "62   0.507937  0.263158\n",
      "63   0.507937  0.157895\n",
      "64   0.507937  0.263158\n",
      "65   0.238095  0.421053\n",
      "66   0.238095  0.421053\n",
      "67   0.682540  0.368421\n",
      "68   0.682540  0.368421\n",
      "69   0.825397  0.157895\n",
      "70   0.825397  0.263158\n",
      "71   0.825397  0.263158\n",
      "72   0.825397  0.157895\n",
      "73   0.552381  0.157895\n",
      "74   0.552381  0.157895\n",
      "75   0.552381  0.157895\n",
      "76   0.552381  0.157895\n",
      "77   0.552381  0.157895\n",
      "78   0.552381  0.157895\n",
      "79   0.825397  0.000000\n",
      "80   0.825397  0.000000\n",
      "81   0.063492  0.368421\n",
      "82   0.063492  0.368421\n",
      "83   0.000000  0.421053\n",
      "84   0.190476  0.473684\n",
      "85   0.063492  0.210526\n",
      "86   0.349206  0.105263\n",
      "87   0.079365  0.473684\n",
      "88   0.507937  0.157895\n",
      "89   0.190476  0.315789\n",
      "90   0.190476  0.315789\n",
      "91   0.190476  0.315789\n",
      "92   0.507937  0.052632\n",
      "93   0.190476  0.210526\n",
      "94   0.190476  0.315789\n",
      "95   0.507937  0.157895\n",
      "96   0.047619  0.578947\n",
      "97   0.190476  0.421053\n",
      "98   0.047619  0.578947\n",
      "99   0.190476  0.473684\n",
      "100  0.047619  0.578947\n",
      "101  0.000000  0.789474\n",
      "102  0.190476  0.631579\n",
      "103  0.507937  0.368421\n",
      "104  0.190476  0.578947\n",
      "105  0.190476  0.578947\n",
      "106  0.190476  0.421053\n",
      "107  0.190476  0.578947\n",
      "108  0.190476  0.578947\n",
      "109  0.253968  0.473684\n",
      "110  0.253968  0.368421\n",
      "111  0.190476  0.526316\n",
      "112  0.190476  0.526316\n",
      "113  0.552381  0.157895\n",
      "114  0.552381  0.157895\n",
      "115  0.190476  0.578947\n",
      "116  0.190476  0.578947\n",
      "117  0.253968  0.473684\n",
      "118  0.253968  0.368421\n",
      "119  0.552381  0.157895\n",
      "120  0.552381  0.157895\n",
      "121  0.000000  0.894737\n",
      "122  0.000000  0.789474\n",
      "123  0.000000  0.789474\n",
      "124  0.190476  0.631579\n",
      "125  0.190476  0.736842\n",
      "126  0.190476  0.684211\n",
      "127  0.507937  0.263158\n",
      "128  0.507937  0.315789\n",
      "129  0.507937  0.157895\n",
      "130  0.238095  0.421053\n",
      "131  0.238095  0.421053\n"
     ]
    }
   ],
   "source": [
    "z_scores = stats.zscore(dfnew)\n",
    "abs_z_scores = np.abs(z_scores)\n",
    "filtered_entries = (abs_z_scores < 3).all(axis=1)\n",
    "df_niear = dfnew[filtered_entries]\n",
    "\n",
    "\n",
    "print(df_niear.columns)\n",
    "print(df_niear.info())\n",
    "print('--------------')\n",
    "\n",
    "\n",
    "scaler = preprocessing.MinMaxScaler()\n",
    "cars = df_niear.columns\n",
    "d = scaler.fit_transform(df_niear)\n",
    "scaled_df = pd.DataFrame(d, columns=cars)\n",
    "print(scaled_df.head())\n",
    "print(scaled_df.tail())\n",
    "#print(df2)\n",
    "print(scaled_df)"
   ]
  },
  {
   "cell_type": "code",
   "execution_count": 24,
   "metadata": {},
   "outputs": [
    {
     "data": {
      "text/plain": [
       "LinearRegression(copy_X=True, fit_intercept=True, n_jobs=None, normalize=False)"
      ]
     },
     "execution_count": 24,
     "metadata": {},
     "output_type": "execute_result"
    }
   ],
   "source": [
    "model = sklearn.linear_model.LinearRegression()\n",
    "model.fit(xs_reshape, ys)"
   ]
  },
  {
   "cell_type": "code",
   "execution_count": 23,
   "metadata": {},
   "outputs": [
    {
     "name": "stdout",
     "output_type": "stream",
     "text": [
      "[-0.04043841]\n",
      "38.37520693721943\n"
     ]
    }
   ],
   "source": [
    "print(model.coef_)\n",
    "print(model.intercept_)"
   ]
  },
  {
   "cell_type": "code",
   "execution_count": 46,
   "metadata": {},
   "outputs": [],
   "source": [
    "predicted = model.predict(xs_reshape)\n"
   ]
  },
  {
   "cell_type": "code",
   "execution_count": null,
   "metadata": {},
   "outputs": [],
   "source": []
  }
 ],
 "metadata": {
  "kernelspec": {
   "display_name": "Python 3",
   "language": "python",
   "name": "python3"
  },
  "language_info": {
   "codemirror_mode": {
    "name": "ipython",
    "version": 3
   },
   "file_extension": ".py",
   "mimetype": "text/x-python",
   "name": "python",
   "nbconvert_exporter": "python",
   "pygments_lexer": "ipython3",
   "version": "3.7.6"
  }
 },
 "nbformat": 4,
 "nbformat_minor": 4
}
