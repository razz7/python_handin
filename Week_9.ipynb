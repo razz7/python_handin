{
 "cells": [
  {
   "cell_type": "markdown",
   "metadata": {},
   "source": [
    "Har forsøgt at lave så meget af det oblikatoriske som muligt. "
   ]
  },
  {
   "cell_type": "code",
   "execution_count": 6,
   "metadata": {},
   "outputs": [
    {
     "data": {
      "text/plain": [
       "<matplotlib.axes._subplots.AxesSubplot at 0x7f3d597c7050>"
      ]
     },
     "execution_count": 6,
     "metadata": {},
     "output_type": "execute_result"
    },
    {
     "data": {
      "image/png": "[encoded data removed]",
      "text/plain": [
       "<Figure size 432x288 with 1 Axes>"
      ]
     },
     "metadata": {
      "needs_background": "light"
     },
     "output_type": "display_data"
    }
   ],
   "source": [
    "#import csv\n",
    "import pandas as pd\n",
    "import numpy as np\n",
    "%matplotlib inline\n",
    "\n",
    "url = 'https://think.cs.vt.edu/corgis/datasets/csv/cars/cars.csv'\n",
    "\n",
    "data = pd.read_csv(url) \n",
    "car_df = pd.DataFrame(data)\n",
    "\n",
    "#print(car_df.head)\n",
    "\n",
    "make_honda = car_df[car_df[\"Identification.Make\"] == \"Honda\"]\n",
    "fule = make_honda[make_honda[\"Fuel Information.Fuel Type\"] == \"Gasoline\"]\n",
    "newframe = fule[['Fuel Information.Highway mpg', 'Engine Information.Engine Statistics.Horsepower']]\n",
    "#print(newframe.head)\n",
    "newframe.plot.scatter(x=0, y=1)\n"
   ]
  },
  {
   "cell_type": "code",
   "execution_count": 9,
   "metadata": {},
   "outputs": [
    {
     "name": "stdout",
     "output_type": "stream",
     "text": [
      "(5076,)\n",
      "(5076, 1)\n",
      "[[250]\n",
      " [200]\n",
      " [200]\n",
      " ...\n",
      " [552]\n",
      " [315]\n",
      " [315]]\n"
     ]
    },
    {
     "data": {
      "text/plain": [
       "LinearRegression(copy_X=True, fit_intercept=True, n_jobs=None, normalize=False)"
      ]
     },
     "execution_count": 9,
     "metadata": {},
     "output_type": "execute_result"
    }
   ],
   "source": [
    "import sklearn.linear_model\n",
    "\n",
    "xs = data['Engine Information.Engine Statistics.Horsepower']\n",
    "ys = data['Fuel Information.Highway mpg']\n",
    "\n",
    "xs_reshape = np.array(xs).reshape(-1, 1)\n",
    "print(xs.shape)\n",
    "print(xs_reshape.shape)\n",
    "print(xs_reshape)\n",
    "\n",
    "\n",
    "model = sklearn.linear_model.LinearRegression()\n",
    "model.fit(xs_reshape, ys)"
   ]
  },
  {
   "cell_type": "code",
   "execution_count": 11,
   "metadata": {},
   "outputs": [
    {
     "data": {
      "text/plain": [
       "array([-0.0373255])"
      ]
     },
     "execution_count": 11,
     "metadata": {},
     "output_type": "execute_result"
    }
   ],
   "source": [
    "model.coef_"
   ]
  },
  {
   "cell_type": "code",
   "execution_count": 12,
   "metadata": {},
   "outputs": [
    {
     "data": {
      "text/plain": [
       "34.2220194102029"
      ]
     },
     "execution_count": 12,
     "metadata": {},
     "output_type": "execute_result"
    }
   ],
   "source": [
    "model.intercept_"
   ]
  },
  {
   "cell_type": "code",
   "execution_count": 14,
   "metadata": {},
   "outputs": [
    {
     "name": "stdout",
     "output_type": "stream",
     "text": [
      "when x is 1 34.184693905742996\n"
     ]
    },
    {
     "data": {
      "text/plain": [
       "array([24.8906433 , 26.75691852, 26.75691852, ..., 13.61834095,\n",
       "       22.46448551, 22.46448551])"
      ]
     },
     "execution_count": 14,
     "metadata": {},
     "output_type": "execute_result"
    }
   ],
   "source": [
    "predicted = model.predict(xs_reshape)\n",
    "x1 = model.predict([[1]])\n",
    "print(\"when x is 1 {}\".format(x1[0]))\n",
    "predicted"
   ]
  }
 ],
 "metadata": {
  "kernelspec": {
   "display_name": "Python 3",
   "language": "python",
   "name": "python3"
  },
  "language_info": {
   "codemirror_mode": {
    "name": "ipython",
    "version": 3
   },
   "file_extension": ".py",
   "mimetype": "text/x-python",
   "name": "python",
   "nbconvert_exporter": "python",
   "pygments_lexer": "ipython3",
   "version": "3.7.6"
  }
 },
 "nbformat": 4,
 "nbformat_minor": 4
}
